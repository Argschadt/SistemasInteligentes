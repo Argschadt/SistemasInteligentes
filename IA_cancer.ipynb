{
 "cells": [
  {
   "cell_type": "markdown",
   "metadata": {},
   "source": [
    "# Breast Cancer Classification"
   ]
  },
  {
   "cell_type": "code",
   "execution_count": 1,
   "metadata": {},
   "outputs": [],
   "source": [
    "import pandas as pd\n",
    "import numpy as np\n",
    "import matplotlib.pyplot as plt\n",
    "import graphviz\n",
    "import warnings\n",
    "from sklearn.datasets import load_breast_cancer\n",
    "from sklearn.tree import DecisionTreeClassifier, DecisionTreeRegressor, plot_tree, export_graphviz\n",
    "from graphviz import Source\n",
    "from sklearn.decomposition import PCA\n",
    "from sklearn.pipeline import make_pipeline\n",
    "from sklearn.preprocessing import StandardScaler, LabelEncoder\n",
    "from sklearn.model_selection import train_test_split\n",
    "from sklearn.metrics import accuracy_score, precision_score, recall_score\n",
    "from sklearn.ensemble import RandomForestClassifier\n",
    "from IPython.display import display\n",
    "from tabulate import tabulate"
   ]
  },
  {
   "cell_type": "markdown",
   "metadata": {},
   "source": [
    "## Modelo de Classificação\n",
    "\n",
    "### Carregamento do dataset Breast Cancer"
   ]
  },
  {
   "cell_type": "code",
   "execution_count": 2,
   "metadata": {},
   "outputs": [
    {
     "name": "stdout",
     "output_type": "stream",
     "text": [
      "Primeiras linhas do dataset:\n",
      "+----+---------------+----------------+------------------+-------------+-------------------+--------------------+------------------+-----------------------+-----------------+--------------------------+----------------+-----------------+-------------------+--------------+--------------------+---------------------+-------------------+------------------------+------------------+---------------------------+----------------+-----------------+-------------------+--------------+--------------------+---------------------+-------------------+------------------------+------------------+---------------------------+----------+\n",
      "|    |   mean radius |   mean texture |   mean perimeter |   mean area |   mean smoothness |   mean compactness |   mean concavity |   mean concave points |   mean symmetry |   mean fractal dimension |   radius error |   texture error |   perimeter error |   area error |   smoothness error |   compactness error |   concavity error |   concave points error |   symmetry error |   fractal dimension error |   worst radius |   worst texture |   worst perimeter |   worst area |   worst smoothness |   worst compactness |   worst concavity |   worst concave points |   worst symmetry |   worst fractal dimension |   target |\n",
      "+====+===============+================+==================+=============+===================+====================+==================+=======================+=================+==========================+================+=================+===================+==============+====================+=====================+===================+========================+==================+===========================+================+=================+===================+==============+====================+=====================+===================+========================+==================+===========================+==========+\n",
      "|  0 |         17.99 |          10.38 |           122.8  |      1001   |           0.1184  |            0.2776  |           0.3001 |               0.1471  |          0.2419 |                  0.07871 |         1.095  |          0.9053 |             8.589 |       153.4  |           0.006399 |             0.04904 |           0.05373 |                0.01587 |          0.03003 |                  0.006193 |          25.38 |           17.33 |            184.6  |       2019   |             0.1622 |              0.6656 |            0.7119 |                 0.2654 |           0.4601 |                   0.1189  |        0 |\n",
      "+----+---------------+----------------+------------------+-------------+-------------------+--------------------+------------------+-----------------------+-----------------+--------------------------+----------------+-----------------+-------------------+--------------+--------------------+---------------------+-------------------+------------------------+------------------+---------------------------+----------------+-----------------+-------------------+--------------+--------------------+---------------------+-------------------+------------------------+------------------+---------------------------+----------+\n",
      "|  1 |         20.57 |          17.77 |           132.9  |      1326   |           0.08474 |            0.07864 |           0.0869 |               0.07017 |          0.1812 |                  0.05667 |         0.5435 |          0.7339 |             3.398 |        74.08 |           0.005225 |             0.01308 |           0.0186  |                0.0134  |          0.01389 |                  0.003532 |          24.99 |           23.41 |            158.8  |       1956   |             0.1238 |              0.1866 |            0.2416 |                 0.186  |           0.275  |                   0.08902 |        0 |\n",
      "+----+---------------+----------------+------------------+-------------+-------------------+--------------------+------------------+-----------------------+-----------------+--------------------------+----------------+-----------------+-------------------+--------------+--------------------+---------------------+-------------------+------------------------+------------------+---------------------------+----------------+-----------------+-------------------+--------------+--------------------+---------------------+-------------------+------------------------+------------------+---------------------------+----------+\n",
      "|  2 |         19.69 |          21.25 |           130    |      1203   |           0.1096  |            0.1599  |           0.1974 |               0.1279  |          0.2069 |                  0.05999 |         0.7456 |          0.7869 |             4.585 |        94.03 |           0.00615  |             0.04006 |           0.03832 |                0.02058 |          0.0225  |                  0.004571 |          23.57 |           25.53 |            152.5  |       1709   |             0.1444 |              0.4245 |            0.4504 |                 0.243  |           0.3613 |                   0.08758 |        0 |\n",
      "+----+---------------+----------------+------------------+-------------+-------------------+--------------------+------------------+-----------------------+-----------------+--------------------------+----------------+-----------------+-------------------+--------------+--------------------+---------------------+-------------------+------------------------+------------------+---------------------------+----------------+-----------------+-------------------+--------------+--------------------+---------------------+-------------------+------------------------+------------------+---------------------------+----------+\n",
      "|  3 |         11.42 |          20.38 |            77.58 |       386.1 |           0.1425  |            0.2839  |           0.2414 |               0.1052  |          0.2597 |                  0.09744 |         0.4956 |          1.156  |             3.445 |        27.23 |           0.00911  |             0.07458 |           0.05661 |                0.01867 |          0.05963 |                  0.009208 |          14.91 |           26.5  |             98.87 |        567.7 |             0.2098 |              0.8663 |            0.6869 |                 0.2575 |           0.6638 |                   0.173   |        0 |\n",
      "+----+---------------+----------------+------------------+-------------+-------------------+--------------------+------------------+-----------------------+-----------------+--------------------------+----------------+-----------------+-------------------+--------------+--------------------+---------------------+-------------------+------------------------+------------------+---------------------------+----------------+-----------------+-------------------+--------------+--------------------+---------------------+-------------------+------------------------+------------------+---------------------------+----------+\n",
      "|  4 |         20.29 |          14.34 |           135.1  |      1297   |           0.1003  |            0.1328  |           0.198  |               0.1043  |          0.1809 |                  0.05883 |         0.7572 |          0.7813 |             5.438 |        94.44 |           0.01149  |             0.02461 |           0.05688 |                0.01885 |          0.01756 |                  0.005115 |          22.54 |           16.67 |            152.2  |       1575   |             0.1374 |              0.205  |            0.4    |                 0.1625 |           0.2364 |                   0.07678 |        0 |\n",
      "+----+---------------+----------------+------------------+-------------+-------------------+--------------------+------------------+-----------------------+-----------------+--------------------------+----------------+-----------------+-------------------+--------------+--------------------+---------------------+-------------------+------------------------+------------------+---------------------------+----------------+-----------------+-------------------+--------------+--------------------+---------------------+-------------------+------------------------+------------------+---------------------------+----------+\n",
      "\n",
      "Últimas linhas do dataset:\n",
      "+-----+---------------+----------------+------------------+-------------+-------------------+--------------------+------------------+-----------------------+-----------------+--------------------------+----------------+-----------------+-------------------+--------------+--------------------+---------------------+-------------------+------------------------+------------------+---------------------------+----------------+-----------------+-------------------+--------------+--------------------+---------------------+-------------------+------------------------+------------------+---------------------------+----------+\n",
      "|     |   mean radius |   mean texture |   mean perimeter |   mean area |   mean smoothness |   mean compactness |   mean concavity |   mean concave points |   mean symmetry |   mean fractal dimension |   radius error |   texture error |   perimeter error |   area error |   smoothness error |   compactness error |   concavity error |   concave points error |   symmetry error |   fractal dimension error |   worst radius |   worst texture |   worst perimeter |   worst area |   worst smoothness |   worst compactness |   worst concavity |   worst concave points |   worst symmetry |   worst fractal dimension |   target |\n",
      "+=====+===============+================+==================+=============+===================+====================+==================+=======================+=================+==========================+================+=================+===================+==============+====================+=====================+===================+========================+==================+===========================+================+=================+===================+==============+====================+=====================+===================+========================+==================+===========================+==========+\n",
      "| 564 |         21.56 |          22.39 |           142    |      1479   |           0.111   |            0.1159  |          0.2439  |               0.1389  |          0.1726 |                  0.05623 |         1.176  |           1.256 |             7.673 |       158.7  |           0.0103   |             0.02891 |           0.05198 |                0.02454 |          0.01114 |                  0.004239 |         25.45  |           26.4  |            166.1  |       2027   |            0.141   |             0.2113  |            0.4107 |                 0.2216 |           0.206  |                   0.07115 |        0 |\n",
      "+-----+---------------+----------------+------------------+-------------+-------------------+--------------------+------------------+-----------------------+-----------------+--------------------------+----------------+-----------------+-------------------+--------------+--------------------+---------------------+-------------------+------------------------+------------------+---------------------------+----------------+-----------------+-------------------+--------------+--------------------+---------------------+-------------------+------------------------+------------------+---------------------------+----------+\n",
      "| 565 |         20.13 |          28.25 |           131.2  |      1261   |           0.0978  |            0.1034  |          0.144   |               0.09791 |          0.1752 |                  0.05533 |         0.7655 |           2.463 |             5.203 |        99.04 |           0.005769 |             0.02423 |           0.0395  |                0.01678 |          0.01898 |                  0.002498 |         23.69  |           38.25 |            155    |       1731   |            0.1166  |             0.1922  |            0.3215 |                 0.1628 |           0.2572 |                   0.06637 |        0 |\n",
      "+-----+---------------+----------------+------------------+-------------+-------------------+--------------------+------------------+-----------------------+-----------------+--------------------------+----------------+-----------------+-------------------+--------------+--------------------+---------------------+-------------------+------------------------+------------------+---------------------------+----------------+-----------------+-------------------+--------------+--------------------+---------------------+-------------------+------------------------+------------------+---------------------------+----------+\n",
      "| 566 |         16.6  |          28.08 |           108.3  |       858.1 |           0.08455 |            0.1023  |          0.09251 |               0.05302 |          0.159  |                  0.05648 |         0.4564 |           1.075 |             3.425 |        48.55 |           0.005903 |             0.03731 |           0.0473  |                0.01557 |          0.01318 |                  0.003892 |         18.98  |           34.12 |            126.7  |       1124   |            0.1139  |             0.3094  |            0.3403 |                 0.1418 |           0.2218 |                   0.0782  |        0 |\n",
      "+-----+---------------+----------------+------------------+-------------+-------------------+--------------------+------------------+-----------------------+-----------------+--------------------------+----------------+-----------------+-------------------+--------------+--------------------+---------------------+-------------------+------------------------+------------------+---------------------------+----------------+-----------------+-------------------+--------------+--------------------+---------------------+-------------------+------------------------+------------------+---------------------------+----------+\n",
      "| 567 |         20.6  |          29.33 |           140.1  |      1265   |           0.1178  |            0.277   |          0.3514  |               0.152   |          0.2397 |                  0.07016 |         0.726  |           1.595 |             5.772 |        86.22 |           0.006522 |             0.06158 |           0.07117 |                0.01664 |          0.02324 |                  0.006185 |         25.74  |           39.42 |            184.6  |       1821   |            0.165   |             0.8681  |            0.9387 |                 0.265  |           0.4087 |                   0.124   |        0 |\n",
      "+-----+---------------+----------------+------------------+-------------+-------------------+--------------------+------------------+-----------------------+-----------------+--------------------------+----------------+-----------------+-------------------+--------------+--------------------+---------------------+-------------------+------------------------+------------------+---------------------------+----------------+-----------------+-------------------+--------------+--------------------+---------------------+-------------------+------------------------+------------------+---------------------------+----------+\n",
      "| 568 |          7.76 |          24.54 |            47.92 |       181   |           0.05263 |            0.04362 |          0       |               0       |          0.1587 |                  0.05884 |         0.3857 |           1.428 |             2.548 |        19.15 |           0.007189 |             0.00466 |           0       |                0       |          0.02676 |                  0.002783 |          9.456 |           30.37 |             59.16 |        268.6 |            0.08996 |             0.06444 |            0      |                 0      |           0.2871 |                   0.07039 |        1 |\n",
      "+-----+---------------+----------------+------------------+-------------+-------------------+--------------------+------------------+-----------------------+-----------------+--------------------------+----------------+-----------------+-------------------+--------------+--------------------+---------------------+-------------------+------------------------+------------------+---------------------------+----------------+-----------------+-------------------+--------------+--------------------+---------------------+-------------------+------------------------+------------------+---------------------------+----------+\n",
      "\n",
      "Classes: ['malignant' 'benign']\n"
     ]
    }
   ],
   "source": [
    "# Load dataset\n",
    "cancer = load_breast_cancer()\n",
    "\n",
    "# Selecionando duas features para visualização\n",
    "X_cancer = cancer.data\n",
    "y_cancer = cancer.target\n",
    "\n",
    "# Criando DataFrame\n",
    "df_cancer = pd.DataFrame(X_cancer, columns=cancer.feature_names)\n",
    "df_cancer[\"target\"] = y_cancer\n",
    "\n",
    "print(\"Primeiras linhas do dataset:\")\n",
    "print(tabulate(df_cancer.head(), headers='keys', tablefmt='grid'))\n",
    "print(\"\\nÚltimas linhas do dataset:\")\n",
    "print(tabulate(df_cancer.tail(), headers='keys', tablefmt='grid'))\n",
    "\n",
    "print(\"\\nClasses:\", cancer.target_names)  # 0 = maligno, 1 = benigno"
   ]
  },
  {
   "cell_type": "markdown",
   "metadata": {},
   "source": [
    "### Treinamento de árvore de decisão para classificação"
   ]
  },
  {
   "cell_type": "code",
   "execution_count": 5,
   "metadata": {},
   "outputs": [
    {
     "data": {
      "image/svg+xml": [
       "<?xml version=\"1.0\" encoding=\"UTF-8\" standalone=\"no\"?>\n",
       "<!DOCTYPE svg PUBLIC \"-//W3C//DTD SVG 1.1//EN\"\n",
       " \"http://www.w3.org/Graphics/SVG/1.1/DTD/svg11.dtd\">\n",
       "<!-- Generated by graphviz version 12.2.1 (20241206.2353)\n",
       " -->\n",
       "<!-- Title: Tree Pages: 1 -->\n",
       "<svg width=\"548pt\" height=\"325pt\"\n",
       " viewBox=\"0.00 0.00 548.38 324.50\" xmlns=\"http://www.w3.org/2000/svg\" xmlns:xlink=\"http://www.w3.org/1999/xlink\">\n",
       "<g id=\"graph0\" class=\"graph\" transform=\"scale(1 1) rotate(0) translate(4 320.5)\">\n",
       "<title>Tree</title>\n",
       "<polygon fill=\"white\" stroke=\"none\" points=\"-4,4 -4,-320.5 544.38,-320.5 544.38,4 -4,4\"/>\n",
       "<!-- 0 -->\n",
       "<g id=\"node1\" class=\"node\">\n",
       "<title>0</title>\n",
       "<path fill=\"#afd7f4\" stroke=\"black\" d=\"M333.5,-316.5C333.5,-316.5 203.5,-316.5 203.5,-316.5 197.5,-316.5 191.5,-310.5 191.5,-304.5 191.5,-304.5 191.5,-241.75 191.5,-241.75 191.5,-235.75 197.5,-229.75 203.5,-229.75 203.5,-229.75 333.5,-229.75 333.5,-229.75 339.5,-229.75 345.5,-235.75 345.5,-241.75 345.5,-241.75 345.5,-304.5 345.5,-304.5 345.5,-310.5 339.5,-316.5 333.5,-316.5\"/>\n",
       "<text text-anchor=\"middle\" x=\"268.5\" y=\"-299.2\" font-family=\"Helvetica,sans-Serif\" font-size=\"14.00\">worst radius &lt;= 16.795</text>\n",
       "<text text-anchor=\"middle\" x=\"268.5\" y=\"-283.45\" font-family=\"Helvetica,sans-Serif\" font-size=\"14.00\">gini = 0.468</text>\n",
       "<text text-anchor=\"middle\" x=\"268.5\" y=\"-267.7\" font-family=\"Helvetica,sans-Serif\" font-size=\"14.00\">samples = 569</text>\n",
       "<text text-anchor=\"middle\" x=\"268.5\" y=\"-251.95\" font-family=\"Helvetica,sans-Serif\" font-size=\"14.00\">value = [212, 357]</text>\n",
       "<text text-anchor=\"middle\" x=\"268.5\" y=\"-236.2\" font-family=\"Helvetica,sans-Serif\" font-size=\"14.00\">class = benign</text>\n",
       "</g>\n",
       "<!-- 1 -->\n",
       "<g id=\"node2\" class=\"node\">\n",
       "<title>1</title>\n",
       "<path fill=\"#4ca6e7\" stroke=\"black\" d=\"M259.38,-193.75C259.38,-193.75 83.62,-193.75 83.62,-193.75 77.62,-193.75 71.62,-187.75 71.62,-181.75 71.62,-181.75 71.62,-119 71.62,-119 71.62,-113 77.62,-107 83.62,-107 83.62,-107 259.38,-107 259.38,-107 265.38,-107 271.38,-113 271.38,-119 271.38,-119 271.38,-181.75 271.38,-181.75 271.38,-187.75 265.38,-193.75 259.38,-193.75\"/>\n",
       "<text text-anchor=\"middle\" x=\"171.5\" y=\"-176.45\" font-family=\"Helvetica,sans-Serif\" font-size=\"14.00\">worst concave points &lt;= 0.136</text>\n",
       "<text text-anchor=\"middle\" x=\"171.5\" y=\"-160.7\" font-family=\"Helvetica,sans-Serif\" font-size=\"14.00\">gini = 0.159</text>\n",
       "<text text-anchor=\"middle\" x=\"171.5\" y=\"-144.95\" font-family=\"Helvetica,sans-Serif\" font-size=\"14.00\">samples = 379</text>\n",
       "<text text-anchor=\"middle\" x=\"171.5\" y=\"-129.2\" font-family=\"Helvetica,sans-Serif\" font-size=\"14.00\">value = [33, 346]</text>\n",
       "<text text-anchor=\"middle\" x=\"171.5\" y=\"-113.45\" font-family=\"Helvetica,sans-Serif\" font-size=\"14.00\">class = benign</text>\n",
       "</g>\n",
       "<!-- 0&#45;&gt;1 -->\n",
       "<g id=\"edge1\" class=\"edge\">\n",
       "<title>0&#45;&gt;1</title>\n",
       "<path fill=\"none\" stroke=\"black\" d=\"M234.3,-229.55C227.35,-220.9 219.96,-211.7 212.79,-202.78\"/>\n",
       "<polygon fill=\"black\" stroke=\"black\" points=\"215.66,-200.75 206.66,-195.15 210.2,-205.14 215.66,-200.75\"/>\n",
       "<text text-anchor=\"middle\" x=\"203.01\" y=\"-213.4\" font-family=\"Helvetica,sans-Serif\" font-size=\"14.00\">True</text>\n",
       "</g>\n",
       "<!-- 4 -->\n",
       "<g id=\"node5\" class=\"node\">\n",
       "<title>4</title>\n",
       "<path fill=\"#e78945\" stroke=\"black\" d=\"M429.75,-193.75C429.75,-193.75 301.25,-193.75 301.25,-193.75 295.25,-193.75 289.25,-187.75 289.25,-181.75 289.25,-181.75 289.25,-119 289.25,-119 289.25,-113 295.25,-107 301.25,-107 301.25,-107 429.75,-107 429.75,-107 435.75,-107 441.75,-113 441.75,-119 441.75,-119 441.75,-181.75 441.75,-181.75 441.75,-187.75 435.75,-193.75 429.75,-193.75\"/>\n",
       "<text text-anchor=\"middle\" x=\"365.5\" y=\"-176.45\" font-family=\"Helvetica,sans-Serif\" font-size=\"14.00\">mean texture &lt;= 16.11</text>\n",
       "<text text-anchor=\"middle\" x=\"365.5\" y=\"-160.7\" font-family=\"Helvetica,sans-Serif\" font-size=\"14.00\">gini = 0.109</text>\n",
       "<text text-anchor=\"middle\" x=\"365.5\" y=\"-144.95\" font-family=\"Helvetica,sans-Serif\" font-size=\"14.00\">samples = 190</text>\n",
       "<text text-anchor=\"middle\" x=\"365.5\" y=\"-129.2\" font-family=\"Helvetica,sans-Serif\" font-size=\"14.00\">value = [179, 11]</text>\n",
       "<text text-anchor=\"middle\" x=\"365.5\" y=\"-113.45\" font-family=\"Helvetica,sans-Serif\" font-size=\"14.00\">class = malignant</text>\n",
       "</g>\n",
       "<!-- 0&#45;&gt;4 -->\n",
       "<g id=\"edge4\" class=\"edge\">\n",
       "<title>0&#45;&gt;4</title>\n",
       "<path fill=\"none\" stroke=\"black\" d=\"M302.7,-229.55C309.65,-220.9 317.04,-211.7 324.21,-202.78\"/>\n",
       "<polygon fill=\"black\" stroke=\"black\" points=\"326.8,-205.14 330.34,-195.15 321.34,-200.75 326.8,-205.14\"/>\n",
       "<text text-anchor=\"middle\" x=\"333.99\" y=\"-213.4\" font-family=\"Helvetica,sans-Serif\" font-size=\"14.00\">False</text>\n",
       "</g>\n",
       "<!-- 2 -->\n",
       "<g id=\"node3\" class=\"node\">\n",
       "<title>2</title>\n",
       "<path fill=\"#3c9ee5\" stroke=\"black\" d=\"M97,-71C97,-71 12,-71 12,-71 6,-71 0,-65 0,-59 0,-59 0,-12 0,-12 0,-6 6,0 12,0 12,0 97,0 97,0 103,0 109,-6 109,-12 109,-12 109,-59 109,-59 109,-65 103,-71 97,-71\"/>\n",
       "<text text-anchor=\"middle\" x=\"54.5\" y=\"-53.7\" font-family=\"Helvetica,sans-Serif\" font-size=\"14.00\">gini = 0.03</text>\n",
       "<text text-anchor=\"middle\" x=\"54.5\" y=\"-37.95\" font-family=\"Helvetica,sans-Serif\" font-size=\"14.00\">samples = 333</text>\n",
       "<text text-anchor=\"middle\" x=\"54.5\" y=\"-22.2\" font-family=\"Helvetica,sans-Serif\" font-size=\"14.00\">value = [5, 328]</text>\n",
       "<text text-anchor=\"middle\" x=\"54.5\" y=\"-6.45\" font-family=\"Helvetica,sans-Serif\" font-size=\"14.00\">class = benign</text>\n",
       "</g>\n",
       "<!-- 1&#45;&gt;2 -->\n",
       "<g id=\"edge2\" class=\"edge\">\n",
       "<title>1&#45;&gt;2</title>\n",
       "<path fill=\"none\" stroke=\"black\" d=\"M127.27,-106.7C117.86,-97.62 107.92,-88.04 98.52,-78.97\"/>\n",
       "<polygon fill=\"black\" stroke=\"black\" points=\"101.14,-76.63 91.51,-72.21 96.28,-81.67 101.14,-76.63\"/>\n",
       "</g>\n",
       "<!-- 3 -->\n",
       "<g id=\"node4\" class=\"node\">\n",
       "<title>3</title>\n",
       "<path fill=\"#f6d2b8\" stroke=\"black\" d=\"M236.38,-71C236.38,-71 138.62,-71 138.62,-71 132.62,-71 126.62,-65 126.62,-59 126.62,-59 126.62,-12 126.62,-12 126.62,-6 132.62,0 138.62,0 138.62,0 236.38,0 236.38,0 242.38,0 248.38,-6 248.38,-12 248.38,-12 248.38,-59 248.38,-59 248.38,-65 242.38,-71 236.38,-71\"/>\n",
       "<text text-anchor=\"middle\" x=\"187.5\" y=\"-53.7\" font-family=\"Helvetica,sans-Serif\" font-size=\"14.00\">gini = 0.476</text>\n",
       "<text text-anchor=\"middle\" x=\"187.5\" y=\"-37.95\" font-family=\"Helvetica,sans-Serif\" font-size=\"14.00\">samples = 46</text>\n",
       "<text text-anchor=\"middle\" x=\"187.5\" y=\"-22.2\" font-family=\"Helvetica,sans-Serif\" font-size=\"14.00\">value = [28, 18]</text>\n",
       "<text text-anchor=\"middle\" x=\"187.5\" y=\"-6.45\" font-family=\"Helvetica,sans-Serif\" font-size=\"14.00\">class = malignant</text>\n",
       "</g>\n",
       "<!-- 1&#45;&gt;3 -->\n",
       "<g id=\"edge3\" class=\"edge\">\n",
       "<title>1&#45;&gt;3</title>\n",
       "<path fill=\"none\" stroke=\"black\" d=\"M177.55,-106.7C178.68,-98.72 179.87,-90.36 181.01,-82.29\"/>\n",
       "<polygon fill=\"black\" stroke=\"black\" points=\"184.44,-83.05 182.37,-72.66 177.51,-82.07 184.44,-83.05\"/>\n",
       "</g>\n",
       "<!-- 5 -->\n",
       "<g id=\"node6\" class=\"node\">\n",
       "<title>5</title>\n",
       "<path fill=\"#e9f4fc\" stroke=\"black\" d=\"M389,-71C389,-71 310,-71 310,-71 304,-71 298,-65 298,-59 298,-59 298,-12 298,-12 298,-6 304,0 310,0 310,0 389,0 389,0 395,0 401,-6 401,-12 401,-12 401,-59 401,-59 401,-65 395,-71 389,-71\"/>\n",
       "<text text-anchor=\"middle\" x=\"349.5\" y=\"-53.7\" font-family=\"Helvetica,sans-Serif\" font-size=\"14.00\">gini = 0.498</text>\n",
       "<text text-anchor=\"middle\" x=\"349.5\" y=\"-37.95\" font-family=\"Helvetica,sans-Serif\" font-size=\"14.00\">samples = 17</text>\n",
       "<text text-anchor=\"middle\" x=\"349.5\" y=\"-22.2\" font-family=\"Helvetica,sans-Serif\" font-size=\"14.00\">value = [8, 9]</text>\n",
       "<text text-anchor=\"middle\" x=\"349.5\" y=\"-6.45\" font-family=\"Helvetica,sans-Serif\" font-size=\"14.00\">class = benign</text>\n",
       "</g>\n",
       "<!-- 4&#45;&gt;5 -->\n",
       "<g id=\"edge5\" class=\"edge\">\n",
       "<title>4&#45;&gt;5</title>\n",
       "<path fill=\"none\" stroke=\"black\" d=\"M359.45,-106.7C358.32,-98.72 357.13,-90.36 355.99,-82.29\"/>\n",
       "<polygon fill=\"black\" stroke=\"black\" points=\"359.49,-82.07 354.63,-72.66 352.56,-83.05 359.49,-82.07\"/>\n",
       "</g>\n",
       "<!-- 6 -->\n",
       "<g id=\"node7\" class=\"node\">\n",
       "<title>6</title>\n",
       "<path fill=\"#e5823b\" stroke=\"black\" d=\"M528.38,-71C528.38,-71 430.62,-71 430.62,-71 424.62,-71 418.62,-65 418.62,-59 418.62,-59 418.62,-12 418.62,-12 418.62,-6 424.62,0 430.62,0 430.62,0 528.38,0 528.38,0 534.38,0 540.38,-6 540.38,-12 540.38,-12 540.38,-59 540.38,-59 540.38,-65 534.38,-71 528.38,-71\"/>\n",
       "<text text-anchor=\"middle\" x=\"479.5\" y=\"-53.7\" font-family=\"Helvetica,sans-Serif\" font-size=\"14.00\">gini = 0.023</text>\n",
       "<text text-anchor=\"middle\" x=\"479.5\" y=\"-37.95\" font-family=\"Helvetica,sans-Serif\" font-size=\"14.00\">samples = 173</text>\n",
       "<text text-anchor=\"middle\" x=\"479.5\" y=\"-22.2\" font-family=\"Helvetica,sans-Serif\" font-size=\"14.00\">value = [171, 2]</text>\n",
       "<text text-anchor=\"middle\" x=\"479.5\" y=\"-6.45\" font-family=\"Helvetica,sans-Serif\" font-size=\"14.00\">class = malignant</text>\n",
       "</g>\n",
       "<!-- 4&#45;&gt;6 -->\n",
       "<g id=\"edge6\" class=\"edge\">\n",
       "<title>4&#45;&gt;6</title>\n",
       "<path fill=\"none\" stroke=\"black\" d=\"M408.6,-106.7C417.67,-97.72 427.25,-88.23 436.33,-79.25\"/>\n",
       "<polygon fill=\"black\" stroke=\"black\" points=\"438.78,-81.75 443.42,-72.22 433.85,-76.77 438.78,-81.75\"/>\n",
       "</g>\n",
       "</g>\n",
       "</svg>\n"
      ],
      "text/plain": [
       "<graphviz.sources.Source at 0x21adad9bdd0>"
      ]
     },
     "execution_count": 5,
     "metadata": {},
     "output_type": "execute_result"
    }
   ],
   "source": [
    "# Criar e treinar o modelo\n",
    "tree_clf = DecisionTreeClassifier(max_depth=2, random_state=42)\n",
    "tree_clf.fit(X_cancer, y_cancer)\n",
    "\n",
    "# Exportar a árvore para visualização\n",
    "export_graphviz(\n",
    "    tree_clf,\n",
    "    out_file=\"cancer_tree.dot\",\n",
    "    feature_names=cancer.feature_names,\n",
    "    class_names=cancer.target_names,\n",
    "    rounded=True,\n",
    "    filled=True\n",
    ")\n",
    "\n",
    "# Mostrar a árvore\n",
    "Source.from_file(\"cancer_tree.dot\")"
   ]
  },
  {
   "cell_type": "markdown",
   "metadata": {},
   "source": [
    "### Predição com novos casos"
   ]
  },
  {
   "cell_type": "code",
   "execution_count": null,
   "metadata": {},
   "outputs": [],
   "source": [
    "# Exemplo 1\n",
    "print(\"Exemplo 1 - mean radius=15, mean texture=20:\")\n",
    "print(\"Probabilidades:\", tree_clf.predict_proba([[15, 20]]).round(3))\n",
    "print(\"Classe predita:\", tree_clf.predict([[15, 20]]))\n",
    "print(\"Interpretação:\", cancer.target_names[tree_clf.predict([[15, 20]])[0]])\n",
    "\n",
    "# Exemplo 2\n",
    "print(\"\\nExemplo 2 - mean radius=10, mean texture=15:\")\n",
    "print(\"Probabilidades:\", tree_clf.predict_proba([[10, 15]]).round(3))\n",
    "print(\"Classe predita:\", tree_clf.predict([[10, 15]]))\n",
    "print(\"Interpretação:\", cancer.target_names[tree_clf.predict([[10, 15]])[0]])"
   ]
  },
  {
   "cell_type": "markdown",
   "metadata": {},
   "source": [
    "## Análise e Avaliação de Métricas\n",
    "\n",
    "### Divisão em treino e teste"
   ]
  },
  {
   "cell_type": "code",
   "execution_count": null,
   "metadata": {},
   "outputs": [],
   "source": [
    "X_train, X_test, y_train, y_test = train_test_split(\n",
    "    X_cancer, y_cancer, test_size=0.2, random_state=42)"
   ]
  },
  {
   "cell_type": "markdown",
   "metadata": {},
   "source": [
    "### Duas árvores com diferentes parâmetros"
   ]
  },
  {
   "cell_type": "code",
   "execution_count": null,
   "metadata": {},
   "outputs": [],
   "source": [
    "# Árvore sem regularização\n",
    "tree_clf1 = DecisionTreeClassifier(random_state=42)\n",
    "tree_clf1.fit(X_train, y_train)\n",
    "\n",
    "# Árvore com regularização\n",
    "tree_clf2 = DecisionTreeClassifier(min_samples_leaf=20, random_state=42)\n",
    "tree_clf2.fit(X_train, y_train)"
   ]
  },
  {
   "cell_type": "markdown",
   "metadata": {},
   "source": [
    "### Visualização das árvores"
   ]
  },
  {
   "cell_type": "code",
   "execution_count": null,
   "metadata": {},
   "outputs": [],
   "source": [
    "plt.figure(figsize=(16, 6))\n",
    "\n",
    "plt.subplot(1, 2, 1)\n",
    "plot_tree(tree_clf1, filled=True, rounded=True, class_names=cancer.target_names)\n",
    "plt.title(\"Árvore sem regularização\")\n",
    "\n",
    "plt.subplot(1, 2, 2)\n",
    "plot_tree(tree_clf2, filled=True, rounded=True, class_names=cancer.target_names)\n",
    "plt.title(\"Árvore com min_samples_leaf=20\")\n",
    "\n",
    "plt.tight_layout()\n",
    "plt.show()"
   ]
  },
  {
   "cell_type": "markdown",
   "metadata": {},
   "source": [
    "### Avaliação nos dados de treino e teste"
   ]
  },
  {
   "cell_type": "code",
   "execution_count": null,
   "metadata": {},
   "outputs": [],
   "source": [
    "print(\"Acurácia no treino:\")\n",
    "print(f\"Árvore 1 (sem regularização): {tree_clf1.score(X_train, y_train):.3f}\")\n",
    "print(f\"Árvore 2 (com regularização): {tree_clf2.score(X_train, y_train):.3f}\")\n",
    "\n",
    "print(\"\\nAcurácia no teste:\")\n",
    "print(f\"Árvore 1 (sem regularização): {tree_clf1.score(X_test, y_test):.3f}\")\n",
    "print(f\"Árvore 2 (com regularização): {tree_clf2.score(X_test, y_test):.3f}\")"
   ]
  },
  {
   "cell_type": "markdown",
   "metadata": {},
   "source": [
    "### Relatório de classificação detalhado"
   ]
  },
  {
   "cell_type": "code",
   "execution_count": null,
   "metadata": {},
   "outputs": [],
   "source": [
    "from sklearn.metrics import classification_report\n",
    "\n",
    "print(\"Relatório de Classificação (Árvore regularizada):\")\n",
    "print(classification_report(y_test, \n",
    "                          tree_clf2.predict(X_test), \n",
    "                          target_names=cancer.target_names))"
   ]
  }
 ],
 "metadata": {
  "kernelspec": {
   "display_name": "Python 3",
   "language": "python",
   "name": "python3"
  },
  "language_info": {
   "codemirror_mode": {
    "name": "ipython",
    "version": 3
   },
   "file_extension": ".py",
   "mimetype": "text/x-python",
   "name": "python",
   "nbconvert_exporter": "python",
   "pygments_lexer": "ipython3",
   "version": "3.11.5"
  }
 },
 "nbformat": 4,
 "nbformat_minor": 4
}
