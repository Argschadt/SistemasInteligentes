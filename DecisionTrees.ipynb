{
  "cells": [
    {
      "cell_type": "markdown",
      "metadata": {
        "id": "QfAABV_JSxaq"
      },
      "source": [
        "# Árvores de Decisão\n"
      ]
    },
    {
      "cell_type": "markdown",
      "metadata": {
        "id": "xC2KJPqhe3td"
      },
      "source": [
        "### Importação das bibliotecas"
      ]
    },
    {
      "cell_type": "code",
      "execution_count": 1,
      "metadata": {
        "id": "NrRKgSIoNh8X"
      },
      "outputs": [],
      "source": [
        "import pandas as pd\n",
        "import numpy as np\n",
        "import matplotlib.pyplot as plt\n",
        "import graphviz\n",
        "import warnings\n",
        "from sklearn.datasets import load_iris, make_moons\n",
        "from sklearn.tree import DecisionTreeClassifier, DecisionTreeRegressor, plot_tree, export_graphviz\n",
        "from graphviz import Source\n",
        "from sklearn.decomposition import PCA\n",
        "from sklearn.pipeline import make_pipeline\n",
        "from sklearn.preprocessing import StandardScaler, LabelEncoder\n",
        "from sklearn.model_selection import train_test_split\n",
        "from sklearn.metrics import accuracy_score, precision_score, recall_score\n",
        "from sklearn.ensemble import RandomForestClassifier\n",
        "from IPython.display import display\n",
        "from tabulate import tabulate"
      ]
    },
    {
      "cell_type": "markdown",
      "metadata": {
        "id": "tQWunmM_DGTx"
      },
      "source": [
        "## Modelo de Classificação"
      ]
    },
    {
      "cell_type": "markdown",
      "metadata": {
        "id": "SNc5qPP3gbUA"
      },
      "source": [
        "Carregamento do dataset Iris"
      ]
    },
    {
      "cell_type": "code",
      "execution_count": 2,
      "metadata": {
        "id": "nnBu1NEHSvEd"
      },
      "outputs": [],
      "source": [
        "iris = load_iris(as_frame=True)\n",
        "X_iris = iris.data[[\"petal length (cm)\", \"petal width (cm)\"]].values\n",
        "y_iris = iris.target\n",
        "# Iris Setosa, Versicolor e Virginica"
      ]
    },
    {
      "cell_type": "code",
      "execution_count": 3,
      "metadata": {
        "colab": {
          "base_uri": "https://localhost:8080/"
        },
        "id": "vYOQ8Xs3dq4a",
        "outputId": "3707b58d-e317-4935-b61c-189553b213f6"
      },
      "outputs": [
        {
          "name": "stdout",
          "output_type": "stream",
          "text": [
            "+----+---------------------+--------------------+----------+\n",
            "|    |   petal length (cm) |   petal width (cm) |   target |\n",
            "+====+=====================+====================+==========+\n",
            "|  0 |                 1.4 |                0.2 |        0 |\n",
            "+----+---------------------+--------------------+----------+\n",
            "|  1 |                 1.4 |                0.2 |        0 |\n",
            "+----+---------------------+--------------------+----------+\n",
            "|  2 |                 1.3 |                0.2 |        0 |\n",
            "+----+---------------------+--------------------+----------+\n",
            "|  3 |                 1.5 |                0.2 |        0 |\n",
            "+----+---------------------+--------------------+----------+\n",
            "|  4 |                 1.4 |                0.2 |        0 |\n",
            "+----+---------------------+--------------------+----------+\n",
            "+-----+---------------------+--------------------+----------+\n",
            "|     |   petal length (cm) |   petal width (cm) |   target |\n",
            "+=====+=====================+====================+==========+\n",
            "| 145 |                 5.2 |                2.3 |        2 |\n",
            "+-----+---------------------+--------------------+----------+\n",
            "| 146 |                 5   |                1.9 |        2 |\n",
            "+-----+---------------------+--------------------+----------+\n",
            "| 147 |                 5.2 |                2   |        2 |\n",
            "+-----+---------------------+--------------------+----------+\n",
            "| 148 |                 5.4 |                2.3 |        2 |\n",
            "+-----+---------------------+--------------------+----------+\n",
            "| 149 |                 5.1 |                1.8 |        2 |\n",
            "+-----+---------------------+--------------------+----------+\n"
          ]
        }
      ],
      "source": [
        "df_iris = iris.data[[\"petal length (cm)\", \"petal width (cm)\"]].copy()\n",
        "df_iris[\"target\"] = iris.target\n",
        "print(tabulate(df_iris.head(), headers='keys', tablefmt='grid'))\n",
        "print(tabulate(df_iris.tail(), headers='keys', tablefmt='grid'))"
      ]
    },
    {
      "cell_type": "markdown",
      "metadata": {
        "id": "oCacDS7xgmfR"
      },
      "source": [
        "Treinamento de árvore de decisão para classificação e impressão da árvore resultante utilizando duas features (petal length e petal width)"
      ]
    },
    {
      "cell_type": "code",
      "execution_count": 4,
      "metadata": {
        "colab": {
          "base_uri": "https://localhost:8080/",
          "height": 440
        },
        "id": "wlPWjOhegndH",
        "outputId": "b33d7127-062f-43d7-9bba-2978d4c2d03b"
      },
      "outputs": [
        {
          "data": {
            "image/svg+xml": [
              "<?xml version=\"1.0\" encoding=\"UTF-8\" standalone=\"no\"?>\n",
              "<!DOCTYPE svg PUBLIC \"-//W3C//DTD SVG 1.1//EN\"\n",
              " \"http://www.w3.org/Graphics/SVG/1.1/DTD/svg11.dtd\">\n",
              "<!-- Generated by graphviz version 12.2.1 (20241206.2353)\n",
              " -->\n",
              "<!-- Title: Tree Pages: 1 -->\n",
              "<svg width=\"350pt\" height=\"325pt\"\n",
              " viewBox=\"0.00 0.00 349.50 324.50\" xmlns=\"http://www.w3.org/2000/svg\" xmlns:xlink=\"http://www.w3.org/1999/xlink\">\n",
              "<g id=\"graph0\" class=\"graph\" transform=\"scale(1 1) rotate(0) translate(4 320.5)\">\n",
              "<title>Tree</title>\n",
              "<polygon fill=\"white\" stroke=\"none\" points=\"-4,4 -4,-320.5 345.5,-320.5 345.5,4 -4,4\"/>\n",
              "<!-- 0 -->\n",
              "<g id=\"node1\" class=\"node\">\n",
              "<title>0</title>\n",
              "<path fill=\"#ffffff\" stroke=\"black\" d=\"M208,-316.5C208,-316.5 64.5,-316.5 64.5,-316.5 58.5,-316.5 52.5,-310.5 52.5,-304.5 52.5,-304.5 52.5,-241.75 52.5,-241.75 52.5,-235.75 58.5,-229.75 64.5,-229.75 64.5,-229.75 208,-229.75 208,-229.75 214,-229.75 220,-235.75 220,-241.75 220,-241.75 220,-304.5 220,-304.5 220,-310.5 214,-316.5 208,-316.5\"/>\n",
              "<text text-anchor=\"middle\" x=\"136.25\" y=\"-299.2\" font-family=\"Helvetica,sans-Serif\" font-size=\"14.00\">petal length (cm) &lt;= 2.45</text>\n",
              "<text text-anchor=\"middle\" x=\"136.25\" y=\"-283.45\" font-family=\"Helvetica,sans-Serif\" font-size=\"14.00\">gini = 0.667</text>\n",
              "<text text-anchor=\"middle\" x=\"136.25\" y=\"-267.7\" font-family=\"Helvetica,sans-Serif\" font-size=\"14.00\">samples = 150</text>\n",
              "<text text-anchor=\"middle\" x=\"136.25\" y=\"-251.95\" font-family=\"Helvetica,sans-Serif\" font-size=\"14.00\">value = [50, 50, 50]</text>\n",
              "<text text-anchor=\"middle\" x=\"136.25\" y=\"-236.2\" font-family=\"Helvetica,sans-Serif\" font-size=\"14.00\">class = setosa</text>\n",
              "</g>\n",
              "<!-- 1 -->\n",
              "<g id=\"node2\" class=\"node\">\n",
              "<title>1</title>\n",
              "<path fill=\"#e58139\" stroke=\"black\" d=\"M104.5,-185.88C104.5,-185.88 12,-185.88 12,-185.88 6,-185.88 0,-179.88 0,-173.88 0,-173.88 0,-126.88 0,-126.88 0,-120.88 6,-114.88 12,-114.88 12,-114.88 104.5,-114.88 104.5,-114.88 110.5,-114.88 116.5,-120.88 116.5,-126.88 116.5,-126.88 116.5,-173.88 116.5,-173.88 116.5,-179.88 110.5,-185.88 104.5,-185.88\"/>\n",
              "<text text-anchor=\"middle\" x=\"58.25\" y=\"-168.57\" font-family=\"Helvetica,sans-Serif\" font-size=\"14.00\">gini = 0.0</text>\n",
              "<text text-anchor=\"middle\" x=\"58.25\" y=\"-152.82\" font-family=\"Helvetica,sans-Serif\" font-size=\"14.00\">samples = 50</text>\n",
              "<text text-anchor=\"middle\" x=\"58.25\" y=\"-137.07\" font-family=\"Helvetica,sans-Serif\" font-size=\"14.00\">value = [50, 0, 0]</text>\n",
              "<text text-anchor=\"middle\" x=\"58.25\" y=\"-121.33\" font-family=\"Helvetica,sans-Serif\" font-size=\"14.00\">class = setosa</text>\n",
              "</g>\n",
              "<!-- 0&#45;&gt;1 -->\n",
              "<g id=\"edge1\" class=\"edge\">\n",
              "<title>0&#45;&gt;1</title>\n",
              "<path fill=\"none\" stroke=\"black\" d=\"M108.75,-229.55C101.63,-218.52 93.94,-206.63 86.77,-195.52\"/>\n",
              "<polygon fill=\"black\" stroke=\"black\" points=\"89.81,-193.78 81.44,-187.27 83.93,-197.57 89.81,-193.78\"/>\n",
              "<text text-anchor=\"middle\" x=\"75.36\" y=\"-205.02\" font-family=\"Helvetica,sans-Serif\" font-size=\"14.00\">True</text>\n",
              "</g>\n",
              "<!-- 2 -->\n",
              "<g id=\"node3\" class=\"node\">\n",
              "<title>2</title>\n",
              "<path fill=\"#ffffff\" stroke=\"black\" d=\"M284.38,-193.75C284.38,-193.75 146.12,-193.75 146.12,-193.75 140.12,-193.75 134.12,-187.75 134.12,-181.75 134.12,-181.75 134.12,-119 134.12,-119 134.12,-113 140.12,-107 146.12,-107 146.12,-107 284.38,-107 284.38,-107 290.38,-107 296.38,-113 296.38,-119 296.38,-119 296.38,-181.75 296.38,-181.75 296.38,-187.75 290.38,-193.75 284.38,-193.75\"/>\n",
              "<text text-anchor=\"middle\" x=\"215.25\" y=\"-176.45\" font-family=\"Helvetica,sans-Serif\" font-size=\"14.00\">petal width (cm) &lt;= 1.75</text>\n",
              "<text text-anchor=\"middle\" x=\"215.25\" y=\"-160.7\" font-family=\"Helvetica,sans-Serif\" font-size=\"14.00\">gini = 0.5</text>\n",
              "<text text-anchor=\"middle\" x=\"215.25\" y=\"-144.95\" font-family=\"Helvetica,sans-Serif\" font-size=\"14.00\">samples = 100</text>\n",
              "<text text-anchor=\"middle\" x=\"215.25\" y=\"-129.2\" font-family=\"Helvetica,sans-Serif\" font-size=\"14.00\">value = [0, 50, 50]</text>\n",
              "<text text-anchor=\"middle\" x=\"215.25\" y=\"-113.45\" font-family=\"Helvetica,sans-Serif\" font-size=\"14.00\">class = versicolor</text>\n",
              "</g>\n",
              "<!-- 0&#45;&gt;2 -->\n",
              "<g id=\"edge2\" class=\"edge\">\n",
              "<title>0&#45;&gt;2</title>\n",
              "<path fill=\"none\" stroke=\"black\" d=\"M164.1,-229.55C169.65,-221.08 175.53,-212.09 181.26,-203.33\"/>\n",
              "<polygon fill=\"black\" stroke=\"black\" points=\"184.01,-205.52 186.55,-195.24 178.15,-201.69 184.01,-205.52\"/>\n",
              "<text text-anchor=\"middle\" x=\"192.5\" y=\"-213.02\" font-family=\"Helvetica,sans-Serif\" font-size=\"14.00\">False</text>\n",
              "</g>\n",
              "<!-- 3 -->\n",
              "<g id=\"node4\" class=\"node\">\n",
              "<title>3</title>\n",
              "<path fill=\"#4de88e\" stroke=\"black\" d=\"M195.38,-71C195.38,-71 99.12,-71 99.12,-71 93.12,-71 87.12,-65 87.12,-59 87.12,-59 87.12,-12 87.12,-12 87.12,-6 93.12,0 99.12,0 99.12,0 195.38,0 195.38,0 201.38,0 207.38,-6 207.38,-12 207.38,-12 207.38,-59 207.38,-59 207.38,-65 201.38,-71 195.38,-71\"/>\n",
              "<text text-anchor=\"middle\" x=\"147.25\" y=\"-53.7\" font-family=\"Helvetica,sans-Serif\" font-size=\"14.00\">gini = 0.168</text>\n",
              "<text text-anchor=\"middle\" x=\"147.25\" y=\"-37.95\" font-family=\"Helvetica,sans-Serif\" font-size=\"14.00\">samples = 54</text>\n",
              "<text text-anchor=\"middle\" x=\"147.25\" y=\"-22.2\" font-family=\"Helvetica,sans-Serif\" font-size=\"14.00\">value = [0, 49, 5]</text>\n",
              "<text text-anchor=\"middle\" x=\"147.25\" y=\"-6.45\" font-family=\"Helvetica,sans-Serif\" font-size=\"14.00\">class = versicolor</text>\n",
              "</g>\n",
              "<!-- 2&#45;&gt;3 -->\n",
              "<g id=\"edge3\" class=\"edge\">\n",
              "<title>2&#45;&gt;3</title>\n",
              "<path fill=\"none\" stroke=\"black\" d=\"M189.54,-106.7C184.46,-98.27 179.11,-89.39 174,-80.9\"/>\n",
              "<polygon fill=\"black\" stroke=\"black\" points=\"177.07,-79.21 168.91,-72.45 171.07,-82.83 177.07,-79.21\"/>\n",
              "</g>\n",
              "<!-- 4 -->\n",
              "<g id=\"node5\" class=\"node\">\n",
              "<title>4</title>\n",
              "<path fill=\"#843de6\" stroke=\"black\" d=\"M329.5,-71C329.5,-71 237,-71 237,-71 231,-71 225,-65 225,-59 225,-59 225,-12 225,-12 225,-6 231,0 237,0 237,0 329.5,0 329.5,0 335.5,0 341.5,-6 341.5,-12 341.5,-12 341.5,-59 341.5,-59 341.5,-65 335.5,-71 329.5,-71\"/>\n",
              "<text text-anchor=\"middle\" x=\"283.25\" y=\"-53.7\" font-family=\"Helvetica,sans-Serif\" font-size=\"14.00\">gini = 0.043</text>\n",
              "<text text-anchor=\"middle\" x=\"283.25\" y=\"-37.95\" font-family=\"Helvetica,sans-Serif\" font-size=\"14.00\">samples = 46</text>\n",
              "<text text-anchor=\"middle\" x=\"283.25\" y=\"-22.2\" font-family=\"Helvetica,sans-Serif\" font-size=\"14.00\">value = [0, 1, 45]</text>\n",
              "<text text-anchor=\"middle\" x=\"283.25\" y=\"-6.45\" font-family=\"Helvetica,sans-Serif\" font-size=\"14.00\">class = virginica</text>\n",
              "</g>\n",
              "<!-- 2&#45;&gt;4 -->\n",
              "<g id=\"edge4\" class=\"edge\">\n",
              "<title>2&#45;&gt;4</title>\n",
              "<path fill=\"none\" stroke=\"black\" d=\"M240.96,-106.7C246.04,-98.27 251.39,-89.39 256.5,-80.9\"/>\n",
              "<polygon fill=\"black\" stroke=\"black\" points=\"259.43,-82.83 261.59,-72.45 253.43,-79.21 259.43,-82.83\"/>\n",
              "</g>\n",
              "</g>\n",
              "</svg>\n"
            ],
            "text/plain": [
              "<graphviz.sources.Source at 0x2937deb8f90>"
            ]
          },
          "execution_count": 4,
          "metadata": {},
          "output_type": "execute_result"
        }
      ],
      "source": [
        "tree_clf = DecisionTreeClassifier(max_depth=2, random_state=42)\n",
        "tree_clf.fit(X_iris, y_iris)\n",
        "export_graphviz(tree_clf, out_file=\"iris_tree.dot\", feature_names=[\"petal length (cm)\", \"petal width (cm)\"], class_names=iris.target_names, rounded=True, filled=True)\n",
        "Source.from_file(\"iris_tree.dot\")"
      ]
    },
    {
      "cell_type": "markdown",
      "metadata": {
        "id": "ibSWrE0mhpff"
      },
      "source": [
        "Gera a probabilidade de classificação de um caso (flor) novo usando a árvore de decisão"
      ]
    },
    {
      "cell_type": "code",
      "execution_count": null,
      "metadata": {
        "colab": {
          "base_uri": "https://localhost:8080/"
        },
        "id": "bno3D0s7QVBE",
        "outputId": "8f2a69d3-b62b-4732-dce8-5c45e6513c7b"
      },
      "outputs": [],
      "source": [
        "# Petal Length = 5\n",
        "# Petal Width = 1.5\n",
        "print(tree_clf.predict_proba([[5, 1.5]]).round(3))\n",
        "print(tree_clf.predict([[5, 1.5]]))\n",
        "# Iris Setosa = [0]\n",
        "# Iris Versicolor = [1]\n",
        "# Iris Virginica = [2]"
      ]
    },
    {
      "cell_type": "code",
      "execution_count": null,
      "metadata": {
        "colab": {
          "base_uri": "https://localhost:8080/"
        },
        "id": "ZCz44K79ics8",
        "outputId": "04d7c134-6795-4295-bb42-6ef1d68ef38f"
      },
      "outputs": [],
      "source": [
        "# Petal Length = 4\n",
        "# Petal Width = 3.8\n",
        "print(tree_clf.predict_proba([[4, 3.8]]).round(3))\n",
        "print(tree_clf.predict([[4, 3.8]]))\n",
        "# Iris Setosa = [0]\n",
        "# Iris Versicolor = [1]\n",
        "# Iris Virginica = [2]"
      ]
    },
    {
      "cell_type": "markdown",
      "metadata": {
        "id": "1VNhB6MqDLof"
      },
      "source": [
        "## Análise e Avaliação de Métricas das Árvores de Decisão"
      ]
    },
    {
      "cell_type": "markdown",
      "metadata": {
        "id": "BMDj7krliSGS"
      },
      "source": [
        "Geração de um conjunto de dados sintético em formato de meia-lua"
      ]
    },
    {
      "cell_type": "code",
      "execution_count": null,
      "metadata": {
        "id": "vHgfyCr9V4G1"
      },
      "outputs": [],
      "source": [
        "X_moons, y_moons = make_moons(n_samples=200, noise=0.2, random_state=42)\n",
        "# Rótulos: Classe 0 e Classe 1"
      ]
    },
    {
      "cell_type": "code",
      "execution_count": null,
      "metadata": {
        "colab": {
          "base_uri": "https://localhost:8080/"
        },
        "id": "dUv3WHLdjAcW",
        "outputId": "0da95755-a1e5-45e7-c43d-ec982c7ea129"
      },
      "outputs": [],
      "source": [
        "df_moons = pd.DataFrame(X_moons, columns=[\"Feature 1\", \"Feature 2\"])\n",
        "df_moons[\"Target\"] = y_moons\n",
        "print(tabulate(df_moons.head(), headers='keys', tablefmt='grid'))\n",
        "print(tabulate(df_moons.tail(), headers='keys', tablefmt='grid'))"
      ]
    },
    {
      "cell_type": "markdown",
      "metadata": {
        "id": "dARPcZXfjB41"
      },
      "source": [
        "Criação e treinamento de duas árvores de decisão, tendo a segunda o parâmetro (min_samples_leaf = 25) => Mínimo 25 amostras por folha"
      ]
    },
    {
      "cell_type": "code",
      "execution_count": null,
      "metadata": {
        "colab": {
          "base_uri": "https://localhost:8080/",
          "height": 80
        },
        "id": "rOzsNKr0i8dG",
        "outputId": "b073601c-0495-4d3a-c677-4408e7c16e5e"
      },
      "outputs": [],
      "source": [
        "tree_clf1 = DecisionTreeClassifier(random_state=42)\n",
        "tree_clf1.fit(X_moons, y_moons)\n",
        "\n",
        "tree_clf2 = DecisionTreeClassifier(min_samples_leaf=25, random_state=42)\n",
        "tree_clf2.fit(X_moons, y_moons)"
      ]
    },
    {
      "cell_type": "markdown",
      "metadata": {
        "id": "-qNpHrEHkqj2"
      },
      "source": [
        "Impressão da primeira árvore de decisão"
      ]
    },
    {
      "cell_type": "code",
      "execution_count": null,
      "metadata": {
        "colab": {
          "base_uri": "https://localhost:8080/",
          "height": 576
        },
        "id": "P5KVxvukgFZ6",
        "outputId": "b13bfa53-8e88-413a-a979-ef0ec8eb7f79"
      },
      "outputs": [],
      "source": [
        "plt.figure(figsize=(8, 7))\n",
        "plot_tree(tree_clf1, filled=True, rounded=True, class_names=[\"Class 0\", \"Class 1\"])\n",
        "plt.show()"
      ]
    },
    {
      "cell_type": "markdown",
      "metadata": {
        "id": "zPbrGRN_kIa0"
      },
      "source": [
        "Impressão da segunda árvore de decisão"
      ]
    },
    {
      "cell_type": "code",
      "execution_count": null,
      "metadata": {
        "colab": {
          "base_uri": "https://localhost:8080/",
          "height": 422
        },
        "id": "dSzUWKz6kC3M",
        "outputId": "916dd3fb-1822-4111-ff48-5360d06e7124"
      },
      "outputs": [],
      "source": [
        "plt.figure(figsize=(4, 5))\n",
        "plot_tree(tree_clf2, filled=True, rounded=True, class_names=[\"Class 0\", \"Class 1\"])\n",
        "plt.show()"
      ]
    },
    {
      "cell_type": "markdown",
      "metadata": {
        "id": "lvzVdPyTGb6Y"
      },
      "source": [
        "*Mede a acurácia dos modelos tree_clf1 e tree_clf2 no conjunto de treinamento (as 150 amostras originais). Isso mostra o quão bem o modelo conseguiu aprender os padrões no mesmo conjunto usado para treiná-lo.*"
      ]
    },
    {
      "cell_type": "code",
      "execution_count": null,
      "metadata": {
        "colab": {
          "base_uri": "https://localhost:8080/"
        },
        "id": "1Ib93z6oGhsf",
        "outputId": "2b411dc9-b365-4cb0-9a11-f89823bcce6c"
      },
      "outputs": [],
      "source": [
        "tree_clf1.score(X_moons, y_moons)"
      ]
    },
    {
      "cell_type": "code",
      "execution_count": null,
      "metadata": {
        "colab": {
          "base_uri": "https://localhost:8080/"
        },
        "id": "7_U6FF5FGo9R",
        "outputId": "e60c8835-320b-4b6f-8230-5a470cf89d70"
      },
      "outputs": [],
      "source": [
        "tree_clf2.score(X_moons, y_moons)"
      ]
    },
    {
      "cell_type": "markdown",
      "metadata": {
        "id": "U__yiiPOG33_"
      },
      "source": [
        "*Mede a acurácia dos modelos tree_clf1 e tree_clf2 no conjunto de teste (1000 amostras novas e diferentes). Isso avalia a capacidade de generalização do modelo — o quão bem ele funciona em dados que nunca viu antes.*"
      ]
    },
    {
      "cell_type": "markdown",
      "metadata": {
        "id": "Umm6dlp-jeuO"
      },
      "source": [
        "Geração de um conjunto de dados de teste com 1000 amostras para avaliar o desempenho dos classificadores treinados.\n"
      ]
    },
    {
      "cell_type": "code",
      "execution_count": null,
      "metadata": {
        "id": "wa81P5SJiz5m"
      },
      "outputs": [],
      "source": [
        "X_moons_test, y_moons_test = make_moons(n_samples=1000, noise=0.2, random_state=43)"
      ]
    },
    {
      "cell_type": "markdown",
      "metadata": {
        "id": "GmRAMlz5jcVp"
      },
      "source": [
        "OBS: Esses dados são gerados usando uma semente aleatória diferente (43) para garantir que sejam independentes dos dados de treinamento.\n",
        "\n",
        "\n"
      ]
    },
    {
      "cell_type": "markdown",
      "metadata": {
        "id": "obcWnebYj1ye"
      },
      "source": [
        "Precisão do primeiro modelo"
      ]
    },
    {
      "cell_type": "code",
      "execution_count": null,
      "metadata": {
        "colab": {
          "base_uri": "https://localhost:8080/"
        },
        "id": "1gD9-cA3W1WC",
        "outputId": "4185100d-639e-4813-93a5-ecef0438f730"
      },
      "outputs": [],
      "source": [
        "tree_clf1.score(X_moons_test, y_moons_test)"
      ]
    },
    {
      "cell_type": "markdown",
      "metadata": {
        "id": "EL7XSlcrj4Y1"
      },
      "source": [
        "Precisão do segundo modelo"
      ]
    },
    {
      "cell_type": "code",
      "execution_count": null,
      "metadata": {
        "colab": {
          "base_uri": "https://localhost:8080/"
        },
        "id": "Z0MjckVDW1cx",
        "outputId": "f45cc7c5-a21c-412d-8580-118fcd6748ec"
      },
      "outputs": [],
      "source": [
        "tree_clf2.score(X_moons_test, y_moons_test)"
      ]
    },
    {
      "cell_type": "markdown",
      "metadata": {
        "id": "X9bjMli6Hrl4"
      },
      "source": [
        "*No conjunto de treino (X_moons): Modelos mais complexos, como tree_clf1, têm alta acurácia porque podem \"memorizar\" os padrões nos dados de treino. No conjunto de teste (X_moons_test): Modelos como tree_clf1 podem sofrer de overfitting, resultando em menor acurácia com novos dados. Já modelos menos complexos, como tree_clf2, podem generalizar melhor e ter melhor performance em dados não vistos.*"
      ]
    },
    {
      "cell_type": "markdown",
      "metadata": {
        "id": "3pxJdKCxlCo8"
      },
      "source": [
        "Geração de um conjunto de dados sintético para regressão"
      ]
    },
    {
      "cell_type": "code",
      "execution_count": null,
      "metadata": {
        "colab": {
          "base_uri": "https://localhost:8080/"
        },
        "id": "5zj05JREfWbN",
        "outputId": "70248f09-076a-4616-cc01-a2e9ce265109"
      },
      "outputs": [],
      "source": [
        "np.random.seed(42)\n",
        "X_quad = np.random.rand(200, 1) - 0.5\n",
        "y_quad = X_quad ** 2 + 0.025 * np.random.randn(200, 1)\n",
        "df_quad = pd.DataFrame(np.hstack([X_quad, y_quad]), columns=[\"Feature\", \"Target\"])\n",
        "print(tabulate(df_quad.head(), headers='keys', tablefmt='grid'))\n",
        "print(tabulate(df_quad.tail(), headers='keys', tablefmt='grid'))"
      ]
    },
    {
      "cell_type": "code",
      "execution_count": null,
      "metadata": {
        "colab": {
          "base_uri": "https://localhost:8080/",
          "height": 80
        },
        "id": "Nff3gLTxoS-1",
        "outputId": "fe0b322b-4214-4d11-a449-37580e3a953f"
      },
      "outputs": [],
      "source": [
        "tree_reg = DecisionTreeRegressor(max_depth=2, random_state=42)\n",
        "tree_reg.fit(X_quad, y_quad)"
      ]
    },
    {
      "cell_type": "markdown",
      "metadata": {
        "id": "vrchtBcHlZ-O"
      },
      "source": [
        "Impressão da árvore de decisão para o exemplo de regressão"
      ]
    },
    {
      "cell_type": "code",
      "execution_count": null,
      "metadata": {
        "colab": {
          "base_uri": "https://localhost:8080/",
          "height": 499
        },
        "id": "FUljFckIlY9t",
        "outputId": "86579b75-d8df-4098-e711-07c17488a19b"
      },
      "outputs": [],
      "source": [
        "plt.figure(figsize=(8, 6))\n",
        "plot_tree(tree_reg, filled=True, feature_names=['X1'], rounded=True)\n",
        "plt.show()"
      ]
    },
    {
      "cell_type": "markdown",
      "metadata": {
        "id": "Z7xLyD66l4t-"
      },
      "source": [
        "Criação e treinamento de duas árvores de decisão para regressão, uma com max_depth=2 (profundidade máxima da árvore 2) e outra com max_depth=3 (profundidade máxima da árvore 3)"
      ]
    },
    {
      "cell_type": "code",
      "execution_count": null,
      "metadata": {
        "colab": {
          "base_uri": "https://localhost:8080/",
          "height": 407
        },
        "id": "dki3KDT9mdiI",
        "outputId": "7015ec5f-b942-4af2-c548-694b76ec3a5e"
      },
      "outputs": [],
      "source": [
        "tree_reg_max_depth_2 = DecisionTreeRegressor(max_depth=2, random_state=42)\n",
        "tree_reg_max_depth_3 = DecisionTreeRegressor(max_depth=3, random_state=42)\n",
        "\n",
        "tree_reg_max_depth_2.fit(X_quad, y_quad)\n",
        "tree_reg_max_depth_3.fit(X_quad, y_quad)\n",
        "\n",
        "X_test = np.linspace(-0.5, 0.5, 200).reshape(-1, 1)\n",
        "\n",
        "predictions_max_depth_2 = tree_reg_max_depth_2.predict(X_test)\n",
        "predictions_max_depth_3 = tree_reg_max_depth_3.predict(X_test)\n",
        "\n",
        "plt.figure(figsize=(12, 4))\n",
        "\n",
        "plt.subplot(1, 2, 1)\n",
        "plt.scatter(X_quad, y_quad, color='blue', label='Dados de treinamento')\n",
        "plt.plot(X_test, predictions_max_depth_2, color='red', label='Previsões (max_depth=2)')\n",
        "plt.xlabel('Feature')\n",
        "plt.ylabel('Target')\n",
        "plt.title('Previsões da Árvore de Decisão (max_depth=2)')\n",
        "plt.legend()\n",
        "\n",
        "for i in range(1, len(predictions_max_depth_2)):\n",
        "    if predictions_max_depth_2[i] > predictions_max_depth_2[i - 1]:\n",
        "        plt.axvline(x=X_test[i], color='gray', linestyle='--')\n",
        "    elif predictions_max_depth_2[i] < predictions_max_depth_2[i - 1]:\n",
        "        plt.axvline(x=X_test[i], color='black', linestyle='--')\n",
        "\n",
        "plt.subplot(1, 2, 2)\n",
        "plt.scatter(X_quad, y_quad, color='blue', label='Dados de treinamento')\n",
        "plt.plot(X_test, predictions_max_depth_3, color='green', label='Previsões (max_depth=3)')\n",
        "plt.xlabel('Feature')\n",
        "plt.ylabel('Target')\n",
        "plt.title('Previsões da Árvore de Decisão (max_depth=3)')\n",
        "plt.legend()\n",
        "\n",
        "for i in range(1, len(predictions_max_depth_3)):\n",
        "    if predictions_max_depth_3[i] > predictions_max_depth_3[i - 1]:\n",
        "        plt.axvline(x=X_test[i], color='gray', linestyle='--')\n",
        "    elif predictions_max_depth_3[i] < predictions_max_depth_3[i - 1]:\n",
        "        plt.axvline(x=X_test[i], color='black', linestyle='--')\n",
        "\n",
        "plt.tight_layout()\n",
        "plt.show()"
      ]
    },
    {
      "cell_type": "markdown",
      "metadata": {
        "id": "MFdnHsa0m4dZ"
      },
      "source": [
        "Criação e treinamento de duas árvores de decisão para regressão, uma sem regularização e outra com regularização (min_samples_leaf = 10) => Mínimo 10 amostras por folha"
      ]
    },
    {
      "cell_type": "code",
      "execution_count": null,
      "metadata": {
        "colab": {
          "base_uri": "https://localhost:8080/",
          "height": 407
        },
        "id": "7NAceqvWpaBh",
        "outputId": "f2154087-8fba-4cb1-e430-f499f4836a9a"
      },
      "outputs": [],
      "source": [
        "np.random.seed(42)\n",
        "X_quad = np.random.rand(200, 1) - 0.5\n",
        "y_quad = X_quad ** 2 + 0.025 * np.random.randn(200, 1)\n",
        "\n",
        "tree_reg_unregularized = DecisionTreeRegressor(random_state=42)\n",
        "tree_reg_regularized = DecisionTreeRegressor(min_samples_leaf=10, random_state=42)\n",
        "\n",
        "tree_reg_unregularized.fit(X_quad, y_quad)\n",
        "tree_reg_regularized.fit(X_quad, y_quad)\n",
        "\n",
        "X_test = np.linspace(-0.5, 0.5, 200).reshape(-1, 1)\n",
        "\n",
        "predictions_unregularized = tree_reg_unregularized.predict(X_test)\n",
        "predictions_regularized = tree_reg_regularized.predict(X_test)\n",
        "\n",
        "plt.figure(figsize=(12, 4))\n",
        "\n",
        "plt.subplot(1, 2, 1)\n",
        "plt.scatter(X_quad, y_quad, color='blue', label='Dados de treinamento')\n",
        "plt.plot(X_test, predictions_unregularized, color='red', label='Previsões (sem regularização)')\n",
        "plt.xlabel('Feature')\n",
        "plt.ylabel('Target')\n",
        "plt.title('Previsões de Árvore de Regressão Não Regularizada')\n",
        "plt.legend()\n",
        "\n",
        "plt.subplot(1, 2, 2)\n",
        "plt.scatter(X_quad, y_quad, color='blue', label='Dados de treinamento')\n",
        "plt.plot(X_test, predictions_regularized, color='green', label='Previsões (com regularização)')\n",
        "plt.xlabel('Feature')\n",
        "plt.ylabel('Target')\n",
        "plt.title('Previsões de Árvore de Regressão Regularizada')\n",
        "plt.legend()\n",
        "\n",
        "plt.tight_layout()\n",
        "plt.show()"
      ]
    },
    {
      "cell_type": "markdown",
      "metadata": {
        "id": "OYNPVL4lqVVW"
      },
      "source": [
        "Dataset Titanic (https://www.kaggle.com/datasets/yasserh/titanic-dataset)"
      ]
    },
    {
      "cell_type": "code",
      "execution_count": null,
      "metadata": {
        "colab": {
          "base_uri": "https://localhost:8080/"
        },
        "id": "w6SmMG2up_9A",
        "outputId": "f10372ae-d680-409c-c21a-959a56d79fe4"
      },
      "outputs": [],
      "source": [
        "titanic_d = pd.read_csv(\"titanic.csv\")\n",
        "print(tabulate(titanic_d.head(), headers='keys', tablefmt='grid'))"
      ]
    },
    {
      "cell_type": "markdown",
      "metadata": {
        "id": "w60ww1eqfrO-"
      },
      "source": [
        "Pré-processamento do dataset Titanic"
      ]
    },
    {
      "cell_type": "code",
      "execution_count": null,
      "metadata": {
        "colab": {
          "base_uri": "https://localhost:8080/"
        },
        "id": "5a5FnX_vtxTm",
        "outputId": "adb636ec-1531-46ad-f018-926969b634df"
      },
      "outputs": [],
      "source": [
        "titanic_data = pd.read_csv(\"titanic.csv\")\n",
        "titanic_data.ffill(inplace=True)\n",
        "titanic_data.drop([\"Name\", \"Ticket\", \"Cabin\", \"PassengerId\"], axis=1, inplace=True)\n",
        "titanic_data.columns = ['Sobreviveu', 'Classe', 'Sexo', 'Idade', 'Irmaos_Conjuges', 'Pais_Filhos', 'Tarifa', 'LocalEmbarque']\n",
        "port_mapping = {'C': 'Cherbourg', 'Q': 'Queenstown', 'S': 'Southampton'}\n",
        "titanic_data['LocalEmbarque'] = titanic_data['LocalEmbarque'].map(port_mapping)\n",
        "titanic_data['Idade'] = titanic_data['Idade'].astype(int)\n",
        "titanic_data = pd.get_dummies(titanic_data, columns=['Sexo', 'LocalEmbarque'])\n",
        "X = titanic_data.drop(\"Sobreviveu\", axis=1)\n",
        "y = titanic_data[\"Sobreviveu\"]\n",
        "X_train, X_test, y_train, y_test = train_test_split(X, y, test_size=0.2, random_state=42)\n",
        "\n",
        "print(tabulate(titanic_data.head(), headers='keys', tablefmt='grid'))\n",
        "# Rótulo: Sobreviveu (1 = Sim, 0 = Não)"
      ]
    },
    {
      "cell_type": "markdown",
      "metadata": {
        "id": "HoyRViEIsxT0"
      },
      "source": [
        "Implementação dos algoritmos CART e ID3 para criação, treinamento e avaliação de dois modelos de árvores de decisão com o conjunto de dados do Titanic, incluindo previsões e métricas de desempenho, e impressão das arvores resultantes:\n",
        "\n",
        "*   Modelo CART: Gini por padrão\n",
        "*   Modelo ID3: Entropia\n",
        "\n",
        "ID3 é um algoritmo simples usado apenas para classificação, com base na entropia. Ele gera árvores binárias, onde cada nó tem duas ramificações. Embora seja fácil de entender e eficiente para conjuntos de dados pequenos e sem dados faltantes, o ID3 não lida bem com dados ausentes e pode sofrer com overfitting devido à falta de uma técnica de poda.\n",
        "\n",
        "CART, por outro lado, é mais flexível, podendo ser usado tanto para classificação quanto para regressão, utilizando a impureza de Gini ou o MSE como critério de divisão. Ele pode gerar árvores binárias ou não binárias e inclui uma técnica de poda para evitar o overfitting. Além disso, o CART lida bem com dados faltantes, tornando-o mais robusto em situações reais. Contudo, suas árvores podem ser mais difíceis de interpretar em comparação com o ID3."
      ]
    },
    {
      "cell_type": "code",
      "execution_count": null,
      "metadata": {
        "colab": {
          "base_uri": "https://localhost:8080/",
          "height": 129
        },
        "id": "wt3UHSSU0Jjt",
        "outputId": "8998667f-231e-47fc-ce0e-dd7858de1ca7"
      },
      "outputs": [],
      "source": [
        "cart_model = DecisionTreeClassifier()\n",
        "cart_model.fit(X_train, y_train)\n",
        "\n",
        "cart_predictions = cart_model.predict(X_test)\n",
        "\n",
        "cart_accuracy = accuracy_score(y_test, cart_predictions)\n",
        "cart_precision = precision_score(y_test, cart_predictions)\n",
        "cart_recall = recall_score(y_test, cart_predictions)\n",
        "\n",
        "id3_model = DecisionTreeClassifier(criterion='entropy')\n",
        "id3_model.fit(X_train, y_train)\n",
        "\n",
        "id3_predictions = id3_model.predict(X_test)\n",
        "\n",
        "id3_accuracy = accuracy_score(y_test, id3_predictions)\n",
        "id3_precision = precision_score(y_test, id3_predictions, average='macro')\n",
        "id3_recall = recall_score(y_test, id3_predictions, average='macro')\n",
        "\n",
        "metrics_data = {\n",
        "    \"Modelo de Árvore de Decisão\": [\"Modelo CART\", \"Modelo ID3\"],\n",
        "    \"Acurácia Média\": [cart_accuracy, id3_accuracy],\n",
        "    \"Precisão Média\": [cart_precision, id3_precision],\n",
        "    \"Recall Médio\": [cart_recall, id3_recall]\n",
        "}\n",
        "\n",
        "metrics_df = pd.DataFrame(metrics_data)\n",
        "\n",
        "styled_metrics_df = metrics_df.style\\\n",
        "    .set_properties(**{'text-align': 'center'})\\\n",
        "    .set_table_styles([{\n",
        "        'selector': 'th',\n",
        "        'props': [('background-color', 'lightblue'),\n",
        "                  ('color', 'black'),\n",
        "                  ('font-size', '14px')]\n",
        "    }])\n",
        "\n",
        "print(\"Métricas Médias dos Modelos CART e ID3:\")\n",
        "styled_metrics_df"
      ]
    },
    {
      "cell_type": "markdown",
      "metadata": {
        "id": "TMCwLtzb5WFS"
      },
      "source": [
        "Criação e treinamento de um classificador de Random Forest utilizando os dados de treinamento do Titanic. Avaliação do desempenho de cada estimador (modelo de árvore de decisão) individualmente.\n",
        "*   Primeira Random Forest: 2 Estimadores\n",
        "*   Segunda Random Forest: 50 Estimadores\n",
        "*   Terceira Random Forest: 100 Estimadores\n",
        "\n",
        "A Random Forest é um algoritmo de aprendizado de máquina baseado em múltiplas árvores de decisão. Ela combina várias árvores para melhorar a precisão da previsão, utilizando amostragem aleatória dos dados e das características. Essa aleatoriedade reduz o overfitting e melhora a generalização.\n",
        "\n",
        "Vantagens:\n",
        "* Menos propensa ao overfitting devido à combinação de várias árvores.\n",
        "* Não requer ajuste complexo de parâmetros.\n",
        "\n",
        "Desvantagens:\n",
        "* Menos interpretável que uma árvore de decisão única.\n",
        "* Custo computacional maior devido ao número de árvores."
      ]
    },
    {
      "cell_type": "code",
      "execution_count": null,
      "metadata": {
        "colab": {
          "base_uri": "https://localhost:8080/",
          "height": 1000
        },
        "id": "HEuVEx_68k2A",
        "outputId": "c6d35942-4dbc-4b4f-883a-f6f02240d2fc"
      },
      "outputs": [],
      "source": [
        "warnings.filterwarnings(\"ignore\", category=UserWarning, message=\"X has feature names\")\n",
        "\n",
        "random_forest_2_estimators = RandomForestClassifier(n_estimators=2, random_state=42)\n",
        "random_forest_2_estimators.fit(X_train, y_train)\n",
        "\n",
        "accuracies_2_estimators = []\n",
        "precisions_2_estimators = []\n",
        "recalls_2_estimators = []\n",
        "\n",
        "for i, tree in enumerate(random_forest_2_estimators.estimators_):\n",
        "    y_pred_tree = tree.predict(X_test)\n",
        "\n",
        "    accuracy_tree = accuracy_score(y_test, y_pred_tree)\n",
        "    precision_tree = precision_score(y_test, y_pred_tree, average='weighted')\n",
        "    recall_tree = recall_score(y_test, y_pred_tree, average='weighted')\n",
        "\n",
        "    accuracies_2_estimators.append(accuracy_tree)\n",
        "    precisions_2_estimators.append(precision_tree)\n",
        "    recalls_2_estimators.append(recall_tree)\n",
        "\n",
        "    tree_graph = export_graphviz(tree, out_file=None,\n",
        "                                  feature_names=X.columns,\n",
        "                                  class_names=['Not Survived', 'Survived'],\n",
        "                                  filled=True, rounded=True,\n",
        "                                  special_characters=True)\n",
        "    graph = graphviz.Source(tree_graph)\n",
        "    graph.render(f\"titanic_tree_2_estimators_{i+1}\")\n",
        "\n",
        "mean_accuracy_2_estimators = np.mean(accuracies_2_estimators)\n",
        "mean_precision_2_estimators = np.mean(precisions_2_estimators)\n",
        "mean_recall_2_estimators = np.mean(recalls_2_estimators)\n",
        "\n",
        "for i in range(len(random_forest_2_estimators.estimators_)):\n",
        "    print(f\"Random Forest 1, Estimador {i+1}:\")\n",
        "    print(\"Acurácia:\", accuracies_2_estimators[i])\n",
        "    print(\"Precisão:\", precisions_2_estimators[i])\n",
        "    print(\"Recall:\", recalls_2_estimators[i])\n",
        "    print()\n",
        "\n",
        "random_forest_50_estimators = RandomForestClassifier(n_estimators=50, random_state=42)\n",
        "random_forest_50_estimators.fit(X_train, y_train)\n",
        "\n",
        "accuracies_50_estimators = []\n",
        "precisions_50_estimators = []\n",
        "recalls_50_estimators = []\n",
        "\n",
        "for i, tree in enumerate(random_forest_50_estimators.estimators_):\n",
        "    y_pred_tree = tree.predict(X_test)\n",
        "\n",
        "    accuracy_tree = accuracy_score(y_test, y_pred_tree)\n",
        "    precision_tree = precision_score(y_test, y_pred_tree, average='weighted')\n",
        "    recall_tree = recall_score(y_test, y_pred_tree, average='weighted')\n",
        "\n",
        "    accuracies_50_estimators.append(accuracy_tree)\n",
        "    precisions_50_estimators.append(precision_tree)\n",
        "    recalls_50_estimators.append(recall_tree)\n",
        "\n",
        "    tree_graph = export_graphviz(tree, out_file=None,\n",
        "                                  feature_names=X.columns,\n",
        "                                  class_names=['Not Survived', 'Survived'],\n",
        "                                  filled=True, rounded=True,\n",
        "                                  special_characters=True)\n",
        "    graph = graphviz.Source(tree_graph)\n",
        "    graph.render(f\"titanic_tree_50_estimators_{i+1}\")\n",
        "\n",
        "mean_accuracy_50_estimators = np.mean(accuracies_50_estimators)\n",
        "mean_precision_50_estimators = np.mean(precisions_50_estimators)\n",
        "mean_recall_50_estimators = np.mean(recalls_50_estimators)\n",
        "\n",
        "for i in range(len(random_forest_50_estimators.estimators_)):\n",
        "    print(f\"Random Forest 2, Estimador {i+1}:\")\n",
        "    print(\"Acurácia:\", accuracies_50_estimators[i])\n",
        "    print(\"Precisão:\", precisions_50_estimators[i])\n",
        "    print(\"Recall:\", recalls_50_estimators[i])\n",
        "    print()\n",
        "\n",
        "\n",
        "random_forest_100_estimators = RandomForestClassifier(n_estimators=100, random_state=42)\n",
        "random_forest_100_estimators.fit(X_train, y_train)\n",
        "\n",
        "accuracies_100_estimators = []\n",
        "precisions_100_estimators = []\n",
        "recalls_100_estimators = []\n",
        "\n",
        "for i, tree in enumerate(random_forest_100_estimators.estimators_):\n",
        "    y_pred_tree = tree.predict(X_test)\n",
        "\n",
        "    accuracy_tree = accuracy_score(y_test, y_pred_tree)\n",
        "    precision_tree = precision_score(y_test, y_pred_tree, average='weighted')\n",
        "    recall_tree = recall_score(y_test, y_pred_tree, average='weighted')\n",
        "\n",
        "    accuracies_100_estimators.append(accuracy_tree)\n",
        "    precisions_100_estimators.append(precision_tree)\n",
        "    recalls_100_estimators.append(recall_tree)\n",
        "\n",
        "    tree_graph = export_graphviz(tree, out_file=None,\n",
        "                                  feature_names=X.columns,\n",
        "                                  class_names=['Not Survived', 'Survived'],\n",
        "                                  filled=True, rounded=True,\n",
        "                                  special_characters=True)\n",
        "    graph = graphviz.Source(tree_graph)\n",
        "    graph.render(f\"titanic_tree_100_estimators_{i+1}\")\n",
        "\n",
        "mean_accuracy_100_estimators = np.mean(accuracies_100_estimators)\n",
        "mean_precision_100_estimators = np.mean(precisions_100_estimators)\n",
        "mean_recall_100_estimators = np.mean(recalls_100_estimators)\n",
        "\n",
        "for i in range(len(random_forest_100_estimators.estimators_)):\n",
        "    print(f\"Random Forest 3, Estimador {i+1}:\")\n",
        "    print(\"Acurácia:\", accuracies_100_estimators[i])\n",
        "    print(\"Precisão:\", precisions_100_estimators[i])\n",
        "    print(\"Recall:\", recalls_100_estimators[i])\n",
        "    print()\n",
        "\n",
        "metrics_data = {\n",
        "    \"Floresta Aleatória\": [\"2 Estimadores\", \"50 Estimadores\", \"100 Estimadores\"],\n",
        "    \"Acurácia Média\": [mean_accuracy_2_estimators, mean_accuracy_50_estimators, mean_accuracy_100_estimators],\n",
        "    \"Precisão Média\": [mean_precision_2_estimators, mean_precision_50_estimators, mean_precision_100_estimators],\n",
        "    \"Recall Médio\": [mean_recall_2_estimators, mean_recall_50_estimators, mean_recall_100_estimators]\n",
        "}\n",
        "\n",
        "metrics_df = pd.DataFrame(metrics_data)\n",
        "\n",
        "styled_metrics_df = metrics_df.style\\\n",
        "    .set_properties(**{'text-align': 'center'})\\\n",
        "    .set_table_styles([{\n",
        "        'selector': 'th',\n",
        "        'props': [('background-color', 'lightblue'),\n",
        "                  ('color', 'black'),\n",
        "                  ('font-size', '14px')]\n",
        "    }])\n",
        "\n",
        "print(\"Métricas Médias dos Modelos Random Forest:\")\n",
        "styled_metrics_df"
      ]
    },
    {
      "cell_type": "markdown",
      "metadata": {
        "id": "F--EpKmCwtev"
      },
      "source": [
        "Interpretação:\n",
        "* Modelo com 2 estimadores: Apresenta melhores métricas (acurácia, precisão e recall) nos dados de teste. No entanto, com apenas 2 árvores, o modelo pode estar overfitado, ou seja, adaptado demais aos dados de treinamento, o que pode prejudicar sua capacidade de generalizar para dados novos.\n",
        "\n",
        "* Modelos com 50 e 100 estimadores: Apesar de apresentarem métricas ligeiramente piores, o aumento no número de árvores ajuda a reduzir o risco de overfitting. Mais estimadores tornam o modelo mais robusto, diluindo os erros individuais de cada árvore, o que favorece a generalização e o desempenho em dados novos ou fora da amostra de treinamento."
      ]
    }
  ],
  "metadata": {
    "colab": {
      "provenance": []
    },
    "kernelspec": {
      "display_name": "Python 3",
      "name": "python3"
    },
    "language_info": {
      "codemirror_mode": {
        "name": "ipython",
        "version": 3
      },
      "file_extension": ".py",
      "mimetype": "text/x-python",
      "name": "python",
      "nbconvert_exporter": "python",
      "pygments_lexer": "ipython3",
      "version": "3.11.5"
    }
  },
  "nbformat": 4,
  "nbformat_minor": 0
}
